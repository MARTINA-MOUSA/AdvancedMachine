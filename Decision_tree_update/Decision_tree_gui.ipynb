{
 "cells": [
  {
   "cell_type": "code",
   "execution_count": 44,
   "id": "9d539bbb-4b54-4797-8811-85c40817ac04",
   "metadata": {},
   "outputs": [
    {
     "name": "stderr",
     "output_type": "stream",
     "text": [
      "C:\\Users\\DELL\\anaconda3\\Lib\\site-packages\\sklearn\\base.py:464: UserWarning: X does not have valid feature names, but DecisionTreeClassifier was fitted with feature names\n",
      "  warnings.warn(\n",
      "C:\\Users\\DELL\\anaconda3\\Lib\\site-packages\\sklearn\\base.py:464: UserWarning: X does not have valid feature names, but DecisionTreeClassifier was fitted with feature names\n",
      "  warnings.warn(\n",
      "C:\\Users\\DELL\\anaconda3\\Lib\\site-packages\\sklearn\\base.py:464: UserWarning: X does not have valid feature names, but DecisionTreeClassifier was fitted with feature names\n",
      "  warnings.warn(\n",
      "C:\\Users\\DELL\\anaconda3\\Lib\\site-packages\\sklearn\\base.py:464: UserWarning: X does not have valid feature names, but DecisionTreeClassifier was fitted with feature names\n",
      "  warnings.warn(\n",
      "C:\\Users\\DELL\\anaconda3\\Lib\\site-packages\\sklearn\\base.py:464: UserWarning: X does not have valid feature names, but DecisionTreeClassifier was fitted with feature names\n",
      "  warnings.warn(\n",
      "C:\\Users\\DELL\\anaconda3\\Lib\\site-packages\\sklearn\\base.py:464: UserWarning: X does not have valid feature names, but DecisionTreeClassifier was fitted with feature names\n",
      "  warnings.warn(\n",
      "C:\\Users\\DELL\\anaconda3\\Lib\\site-packages\\sklearn\\base.py:464: UserWarning: X does not have valid feature names, but DecisionTreeClassifier was fitted with feature names\n",
      "  warnings.warn(\n"
     ]
    }
   ],
   "source": [
    "import tkinter as tk\n",
    "from tkinter import messagebox\n",
    "from tkinter import ttk\n",
    "import pandas as pd\n",
    "import numpy as np\n",
    "import joblib\n",
    "\n",
    "class MobilePricePredictionGUI:\n",
    "    def __init__(self, root):\n",
    "        self.root = root\n",
    "        self.root.title(\"Mobile Price Prediction\")\n",
    "        \n",
    "        # Load the model\n",
    "        self.model = joblib.load('decision_tree_model.pkl')\n",
    "        \n",
    "        # Create labels and entry fields for each feature\n",
    "        self.features = ['Battery Power' ,\n",
    "                          'Pixel Height', 'Pixel Width', 'RAM']\n",
    "        self.labels = []\n",
    "        self.entries = []\n",
    "        \n",
    "        for i, feature in enumerate(self.features):\n",
    "            label = tk.Label(root, text=feature)\n",
    "            label.grid(row=i, column=0, padx=5, pady=5, sticky='w')\n",
    "            entry = tk.Entry(root)\n",
    "            entry.grid(row=i, column=1, padx=5, pady=5)\n",
    "            self.labels.append(label)\n",
    "            self.entries.append(entry)\n",
    "        \n",
    "        # Create a button to predict\n",
    "        self.predict_button = tk.Button(root, text=\"Predict\", command=self.predict)\n",
    "        self.predict_button.grid(row=len(self.features), columnspan=2, padx=5, pady=10)\n",
    "        \n",
    "        # Create a label to display the prediction\n",
    "        self.prediction_label = tk.Label(root, text=\"\")\n",
    "        self.prediction_label.grid(row=len(self.features) + 1, columnspan=2, padx=5, pady=5)\n",
    "    \n",
    "    def predict(self):\n",
    "        # Get user input for each feature\n",
    "        try:\n",
    "            user_input = [float(entry.get()) for entry in self.entries]\n",
    "            \n",
    "            # Check if number of features matches the model's input shape\n",
    "            if len(user_input) != len(self.features):\n",
    "                messagebox.showerror(\"Error\", f\"Expected {len(self.features)} features.\")\n",
    "                return\n",
    "            \n",
    "            # Predict the price range\n",
    "            prediction = self.model.predict(np.array([user_input]))[0]\n",
    "            predicted_class = int(prediction)  # Assuming it's a classification model\n",
    "            \n",
    "            # Display the prediction\n",
    "            self.prediction_label.config(text=f\"Predicted Price Range: {predicted_class}\")\n",
    "            \n",
    "        except ValueError:\n",
    "            messagebox.showerror(\"Error\", \"Invalid input. Please enter numerical values.\")\n",
    "        except Exception as e:\n",
    "            messagebox.showerror(\"Error\", f\"An error occurred: {str(e)}\")\n",
    "\n",
    "root = tk.Tk()\n",
    "app = MobilePricePredictionGUI(root)\n",
    "root.mainloop()\n"
   ]
  },
  {
   "cell_type": "code",
   "execution_count": null,
   "id": "ae81a087-1271-4a9c-b29d-3dc92b54b39e",
   "metadata": {},
   "outputs": [],
   "source": []
  },
  {
   "cell_type": "code",
   "execution_count": null,
   "id": "380e9b39-b8ea-4378-b148-fcf3f5010bfb",
   "metadata": {},
   "outputs": [],
   "source": []
  }
 ],
 "metadata": {
  "kernelspec": {
   "display_name": "Python 3 (ipykernel)",
   "language": "python",
   "name": "python3"
  },
  "language_info": {
   "codemirror_mode": {
    "name": "ipython",
    "version": 3
   },
   "file_extension": ".py",
   "mimetype": "text/x-python",
   "name": "python",
   "nbconvert_exporter": "python",
   "pygments_lexer": "ipython3",
   "version": "3.11.5"
  }
 },
 "nbformat": 4,
 "nbformat_minor": 5
}
