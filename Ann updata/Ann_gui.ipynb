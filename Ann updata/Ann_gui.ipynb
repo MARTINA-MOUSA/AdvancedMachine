{
 "cells": [
  {
   "cell_type": "code",
   "execution_count": 13,
   "id": "ecd030c2-2e37-47c0-90a3-de8e199f54c6",
   "metadata": {},
   "outputs": [
    {
     "name": "stderr",
     "output_type": "stream",
     "text": [
      "WARNING:absl:Compiled the loaded model, but the compiled metrics have yet to be built. `model.compile_metrics` will be empty until you train or evaluate the model.\n"
     ]
    },
    {
     "name": "stdout",
     "output_type": "stream",
     "text": [
      "\u001b[1m1/1\u001b[0m \u001b[32m━━━━━━━━━━━━━━━━━━━━\u001b[0m\u001b[37m\u001b[0m \u001b[1m0s\u001b[0m 80ms/step\n"
     ]
    }
   ],
   "source": [
    "import tkinter as tk\n",
    "from tkinter import messagebox\n",
    "import pandas as pd\n",
    "import numpy as np\n",
    "from keras.models import load_model\n",
    "\n",
    "class MobilePricePredictionGUI:\n",
    "    def __init__(self, root):\n",
    "        self.root = root\n",
    "        self.root.title(\"Mobile Price Prediction\")\n",
    "        \n",
    "        # Load the model\n",
    "        self.model = load_model('model.h5')\n",
    "        \n",
    "        # Create labels and entry fields for each feature\n",
    "        self.features = ['battery_power' ,\n",
    "                          'px_height', 'px_width', 'ram']\n",
    "        \n",
    "        self.labels = []\n",
    "        self.entries = []\n",
    "        \n",
    "        for i, feature in enumerate(self.features):\n",
    "            label = tk.Label(root, text=feature.capitalize())\n",
    "            label.grid(row=i, column=0, padx=5, pady=5)\n",
    "            entry = tk.Entry(root)\n",
    "            entry.grid(row=i, column=1, padx=5, pady=5)\n",
    "            self.labels.append(label)\n",
    "            self.entries.append(entry)\n",
    "        \n",
    "        # Create a button to predict\n",
    "        self.predict_button = tk.Button(root, text=\"Predict\", command=self.predict)\n",
    "        self.predict_button.grid(row=len(self.features), columnspan=2, padx=5, pady=10)\n",
    "        \n",
    "        # Create a label to display the prediction\n",
    "        self.prediction_label = tk.Label(root, text=\"\")\n",
    "        self.prediction_label.grid(row=len(self.features) + 1, columnspan=2, padx=5, pady=5)\n",
    "    \n",
    "    def predict(self):\n",
    "        # Get user input for each feature\n",
    "        try:\n",
    "            user_input = [float(entry.get()) for entry in self.entries]\n",
    "            \n",
    "            # Check if number of features matches the model's input shape\n",
    "            if len(user_input) != self.model.input_shape[1]:\n",
    "                messagebox.showerror(\"Error\", f\"Expected {self.model.input_shape[1]} features.\")\n",
    "                return\n",
    "            \n",
    "            # Predict the price range\n",
    "            prediction = self.model.predict(np.array([user_input]))[0]\n",
    "            predicted_class = np.argmax(prediction)  # Assuming it's a classification model\n",
    "            \n",
    "            # Display the prediction\n",
    "            self.prediction_label.config(text=f\"Predicted Price Range in class: {predicted_class}\")\n",
    "            \n",
    "        except ValueError:\n",
    "            messagebox.showerror(\"Error\", \"Invalid input. Please enter numerical values.\")\n",
    "\n",
    "root = tk.Tk()\n",
    "app = MobilePricePredictionGUI(root)\n",
    "root.mainloop()\n"
   ]
  },
  {
   "cell_type": "code",
   "execution_count": null,
   "id": "83d9ee4f-2fa6-4fb2-a56b-57a3df6908c6",
   "metadata": {},
   "outputs": [],
   "source": []
  }
 ],
 "metadata": {
  "kernelspec": {
   "display_name": "Python 3 (ipykernel)",
   "language": "python",
   "name": "python3"
  },
  "language_info": {
   "codemirror_mode": {
    "name": "ipython",
    "version": 3
   },
   "file_extension": ".py",
   "mimetype": "text/x-python",
   "name": "python",
   "nbconvert_exporter": "python",
   "pygments_lexer": "ipython3",
   "version": "3.11.5"
  }
 },
 "nbformat": 4,
 "nbformat_minor": 5
}
